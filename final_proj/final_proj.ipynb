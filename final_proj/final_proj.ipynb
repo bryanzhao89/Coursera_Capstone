{
 "metadata": {
  "language_info": {
   "codemirror_mode": {
    "name": "ipython",
    "version": 3
   },
   "file_extension": ".py",
   "mimetype": "text/x-python",
   "name": "python",
   "nbconvert_exporter": "python",
   "pygments_lexer": "ipython3",
   "version": "3.8.3-final"
  },
  "orig_nbformat": 2,
  "kernelspec": {
   "name": "python_defaultSpec_1598903229906",
   "display_name": "Python 3.8.3 64-bit ('base': conda)"
  }
 },
 "nbformat": 4,
 "nbformat_minor": 2,
 "cells": [
  {
   "cell_type": "markdown",
   "metadata": {},
   "source": [
    "## This notebook is mainly used on the capstone project of IBM Data Science Certificate."
   ]
  },
  {
   "cell_type": "code",
   "execution_count": 64,
   "metadata": {},
   "outputs": [],
   "source": [
    "import pandas as pd \n",
    "import numpy as np"
   ]
  },
  {
   "cell_type": "code",
   "execution_count": 65,
   "metadata": {
    "tags": []
   },
   "outputs": [
    {
     "output_type": "stream",
     "name": "stdout",
     "text": "Hello Capstone Project Course!\n"
    }
   ],
   "source": [
    "print(\"Hello Capstone Project Course!\")"
   ]
  },
  {
   "cell_type": "code",
   "execution_count": 66,
   "metadata": {},
   "outputs": [],
   "source": [
    "df = pd.read_csv(r'C:\\Users\\Shunan\\Documents\\DS_ibm\\final_project\\Data-Collisions.csv')"
   ]
  },
  {
   "cell_type": "code",
   "execution_count": 67,
   "metadata": {},
   "outputs": [
    {
     "output_type": "execute_result",
     "data": {
      "text/plain": "   SEVERITYCODE           X          Y  OBJECTID  INCKEY  COLDETKEY REPORTNO  \\\n0             2 -122.323148  47.703140         1    1307       1307  3502005   \n1             1 -122.347294  47.647172         2   52200      52200  2607959   \n2             1 -122.334540  47.607871         3   26700      26700  1482393   \n3             1 -122.334803  47.604803         4    1144       1144  3503937   \n4             2 -122.306426  47.545739         5   17700      17700  1807429   \n\n    STATUS      ADDRTYPE   INTKEY  ... ROADCOND                LIGHTCOND  \\\n0  Matched  Intersection  37475.0  ...      Wet                 Daylight   \n1  Matched         Block      NaN  ...      Wet  Dark - Street Lights On   \n2  Matched         Block      NaN  ...      Dry                 Daylight   \n3  Matched         Block      NaN  ...      Dry                 Daylight   \n4  Matched  Intersection  34387.0  ...      Wet                 Daylight   \n\n  PEDROWNOTGRNT  SDOTCOLNUM SPEEDING ST_COLCODE  \\\n0           NaN         NaN      NaN         10   \n1           NaN   6354039.0      NaN         11   \n2           NaN   4323031.0      NaN         32   \n3           NaN         NaN      NaN         23   \n4           NaN   4028032.0      NaN         10   \n\n                                          ST_COLDESC  SEGLANEKEY  \\\n0                                  Entering at angle           0   \n1  From same direction - both going straight - bo...           0   \n2                             One parked--one moving           0   \n3                   From same direction - all others           0   \n4                                  Entering at angle           0   \n\n   CROSSWALKKEY  HITPARKEDCAR  \n0             0             N  \n1             0             N  \n2             0             N  \n3             0             N  \n4             0             N  \n\n[5 rows x 38 columns]",
      "text/html": "<div>\n<style scoped>\n    .dataframe tbody tr th:only-of-type {\n        vertical-align: middle;\n    }\n\n    .dataframe tbody tr th {\n        vertical-align: top;\n    }\n\n    .dataframe thead th {\n        text-align: right;\n    }\n</style>\n<table border=\"1\" class=\"dataframe\">\n  <thead>\n    <tr style=\"text-align: right;\">\n      <th></th>\n      <th>SEVERITYCODE</th>\n      <th>X</th>\n      <th>Y</th>\n      <th>OBJECTID</th>\n      <th>INCKEY</th>\n      <th>COLDETKEY</th>\n      <th>REPORTNO</th>\n      <th>STATUS</th>\n      <th>ADDRTYPE</th>\n      <th>INTKEY</th>\n      <th>...</th>\n      <th>ROADCOND</th>\n      <th>LIGHTCOND</th>\n      <th>PEDROWNOTGRNT</th>\n      <th>SDOTCOLNUM</th>\n      <th>SPEEDING</th>\n      <th>ST_COLCODE</th>\n      <th>ST_COLDESC</th>\n      <th>SEGLANEKEY</th>\n      <th>CROSSWALKKEY</th>\n      <th>HITPARKEDCAR</th>\n    </tr>\n  </thead>\n  <tbody>\n    <tr>\n      <th>0</th>\n      <td>2</td>\n      <td>-122.323148</td>\n      <td>47.703140</td>\n      <td>1</td>\n      <td>1307</td>\n      <td>1307</td>\n      <td>3502005</td>\n      <td>Matched</td>\n      <td>Intersection</td>\n      <td>37475.0</td>\n      <td>...</td>\n      <td>Wet</td>\n      <td>Daylight</td>\n      <td>NaN</td>\n      <td>NaN</td>\n      <td>NaN</td>\n      <td>10</td>\n      <td>Entering at angle</td>\n      <td>0</td>\n      <td>0</td>\n      <td>N</td>\n    </tr>\n    <tr>\n      <th>1</th>\n      <td>1</td>\n      <td>-122.347294</td>\n      <td>47.647172</td>\n      <td>2</td>\n      <td>52200</td>\n      <td>52200</td>\n      <td>2607959</td>\n      <td>Matched</td>\n      <td>Block</td>\n      <td>NaN</td>\n      <td>...</td>\n      <td>Wet</td>\n      <td>Dark - Street Lights On</td>\n      <td>NaN</td>\n      <td>6354039.0</td>\n      <td>NaN</td>\n      <td>11</td>\n      <td>From same direction - both going straight - bo...</td>\n      <td>0</td>\n      <td>0</td>\n      <td>N</td>\n    </tr>\n    <tr>\n      <th>2</th>\n      <td>1</td>\n      <td>-122.334540</td>\n      <td>47.607871</td>\n      <td>3</td>\n      <td>26700</td>\n      <td>26700</td>\n      <td>1482393</td>\n      <td>Matched</td>\n      <td>Block</td>\n      <td>NaN</td>\n      <td>...</td>\n      <td>Dry</td>\n      <td>Daylight</td>\n      <td>NaN</td>\n      <td>4323031.0</td>\n      <td>NaN</td>\n      <td>32</td>\n      <td>One parked--one moving</td>\n      <td>0</td>\n      <td>0</td>\n      <td>N</td>\n    </tr>\n    <tr>\n      <th>3</th>\n      <td>1</td>\n      <td>-122.334803</td>\n      <td>47.604803</td>\n      <td>4</td>\n      <td>1144</td>\n      <td>1144</td>\n      <td>3503937</td>\n      <td>Matched</td>\n      <td>Block</td>\n      <td>NaN</td>\n      <td>...</td>\n      <td>Dry</td>\n      <td>Daylight</td>\n      <td>NaN</td>\n      <td>NaN</td>\n      <td>NaN</td>\n      <td>23</td>\n      <td>From same direction - all others</td>\n      <td>0</td>\n      <td>0</td>\n      <td>N</td>\n    </tr>\n    <tr>\n      <th>4</th>\n      <td>2</td>\n      <td>-122.306426</td>\n      <td>47.545739</td>\n      <td>5</td>\n      <td>17700</td>\n      <td>17700</td>\n      <td>1807429</td>\n      <td>Matched</td>\n      <td>Intersection</td>\n      <td>34387.0</td>\n      <td>...</td>\n      <td>Wet</td>\n      <td>Daylight</td>\n      <td>NaN</td>\n      <td>4028032.0</td>\n      <td>NaN</td>\n      <td>10</td>\n      <td>Entering at angle</td>\n      <td>0</td>\n      <td>0</td>\n      <td>N</td>\n    </tr>\n  </tbody>\n</table>\n<p>5 rows × 38 columns</p>\n</div>"
     },
     "metadata": {},
     "execution_count": 67
    }
   ],
   "source": [
    "df.head()"
   ]
  },
  {
   "cell_type": "code",
   "execution_count": 68,
   "metadata": {},
   "outputs": [
    {
     "output_type": "execute_result",
     "data": {
      "text/plain": "(194673, 38)"
     },
     "metadata": {},
     "execution_count": 68
    }
   ],
   "source": [
    "df.shape"
   ]
  },
  {
   "cell_type": "code",
   "execution_count": 69,
   "metadata": {},
   "outputs": [
    {
     "output_type": "execute_result",
     "data": {
      "text/plain": "SEVERITYCODE        int64\nX                 float64\nY                 float64\nOBJECTID            int64\nINCKEY              int64\nCOLDETKEY           int64\nREPORTNO           object\nSTATUS             object\nADDRTYPE           object\nINTKEY            float64\nLOCATION           object\nEXCEPTRSNCODE      object\nEXCEPTRSNDESC      object\nSEVERITYCODE.1      int64\nSEVERITYDESC       object\nCOLLISIONTYPE      object\nPERSONCOUNT         int64\nPEDCOUNT            int64\nPEDCYLCOUNT         int64\nVEHCOUNT            int64\nINCDATE            object\nINCDTTM            object\nJUNCTIONTYPE       object\nSDOT_COLCODE        int64\nSDOT_COLDESC       object\nINATTENTIONIND     object\nUNDERINFL          object\nWEATHER            object\nROADCOND           object\nLIGHTCOND          object\nPEDROWNOTGRNT      object\nSDOTCOLNUM        float64\nSPEEDING           object\nST_COLCODE         object\nST_COLDESC         object\nSEGLANEKEY          int64\nCROSSWALKKEY        int64\nHITPARKEDCAR       object\ndtype: object"
     },
     "metadata": {},
     "execution_count": 69
    }
   ],
   "source": [
    "df.dtypes"
   ]
  },
  {
   "cell_type": "code",
   "execution_count": 70,
   "metadata": {
    "tags": []
   },
   "outputs": [
    {
     "output_type": "stream",
     "name": "stdout",
     "text": "<class 'pandas.core.frame.DataFrame'>\nRangeIndex: 194673 entries, 0 to 194672\nData columns (total 38 columns):\n #   Column          Non-Null Count   Dtype  \n---  ------          --------------   -----  \n 0   SEVERITYCODE    194673 non-null  int64  \n 1   X               189339 non-null  float64\n 2   Y               189339 non-null  float64\n 3   OBJECTID        194673 non-null  int64  \n 4   INCKEY          194673 non-null  int64  \n 5   COLDETKEY       194673 non-null  int64  \n 6   REPORTNO        194673 non-null  object \n 7   STATUS          194673 non-null  object \n 8   ADDRTYPE        192747 non-null  object \n 9   INTKEY          65070 non-null   float64\n 10  LOCATION        191996 non-null  object \n 11  EXCEPTRSNCODE   84811 non-null   object \n 12  EXCEPTRSNDESC   5638 non-null    object \n 13  SEVERITYCODE.1  194673 non-null  int64  \n 14  SEVERITYDESC    194673 non-null  object \n 15  COLLISIONTYPE   189769 non-null  object \n 16  PERSONCOUNT     194673 non-null  int64  \n 17  PEDCOUNT        194673 non-null  int64  \n 18  PEDCYLCOUNT     194673 non-null  int64  \n 19  VEHCOUNT        194673 non-null  int64  \n 20  INCDATE         194673 non-null  object \n 21  INCDTTM         194673 non-null  object \n 22  JUNCTIONTYPE    188344 non-null  object \n 23  SDOT_COLCODE    194673 non-null  int64  \n 24  SDOT_COLDESC    194673 non-null  object \n 25  INATTENTIONIND  29805 non-null   object \n 26  UNDERINFL       189789 non-null  object \n 27  WEATHER         189592 non-null  object \n 28  ROADCOND        189661 non-null  object \n 29  LIGHTCOND       189503 non-null  object \n 30  PEDROWNOTGRNT   4667 non-null    object \n 31  SDOTCOLNUM      114936 non-null  float64\n 32  SPEEDING        9333 non-null    object \n 33  ST_COLCODE      194655 non-null  object \n 34  ST_COLDESC      189769 non-null  object \n 35  SEGLANEKEY      194673 non-null  int64  \n 36  CROSSWALKKEY    194673 non-null  int64  \n 37  HITPARKEDCAR    194673 non-null  object \ndtypes: float64(4), int64(12), object(22)\nmemory usage: 56.4+ MB\n"
    }
   ],
   "source": [
    "df.info()"
   ]
  },
  {
   "cell_type": "code",
   "execution_count": 131,
   "metadata": {},
   "outputs": [
    {
     "output_type": "execute_result",
     "data": {
      "text/plain": "   SEVERITYCODE           X          Y   STATUS      ADDRTYPE  \\\n0             2 -122.323148  47.703140  Matched  Intersection   \n1             1 -122.347294  47.647172  Matched         Block   \n2             1 -122.334540  47.607871  Matched         Block   \n3             1 -122.334803  47.604803  Matched         Block   \n4             2 -122.306426  47.545739  Matched  Intersection   \n\n                                      LOCATION  SEVERITYCODE.1  \\\n0                   5TH AVE NE AND NE 103RD ST               2   \n1   AURORA BR BETWEEN RAYE ST AND BRIDGE WAY N               1   \n2  4TH AVE BETWEEN SENECA ST AND UNIVERSITY ST               1   \n3     2ND AVE BETWEEN MARION ST AND MADISON ST               1   \n4              SWIFT AVE S AND SWIFT AV OFF RP               2   \n\n                     SEVERITYDESC COLLISIONTYPE  PERSONCOUNT  ...  \\\n0                Injury Collision        Angles            2  ...   \n1  Property Damage Only Collision     Sideswipe            2  ...   \n2  Property Damage Only Collision    Parked Car            4  ...   \n3  Property Damage Only Collision         Other            3  ...   \n4                Injury Collision        Angles            2  ...   \n\n                              JUNCTIONTYPE  INATTENTIONIND  UNDERINFL  \\\n0   At Intersection (intersection related)             NaN          N   \n1  Mid-Block (not related to intersection)             NaN          0   \n2  Mid-Block (not related to intersection)             NaN          0   \n3  Mid-Block (not related to intersection)             NaN          N   \n4   At Intersection (intersection related)             NaN          0   \n\n    WEATHER ROADCOND                LIGHTCOND PEDROWNOTGRNT SPEEDING  \\\n0  Overcast      Wet                 Daylight           NaN      NaN   \n1   Raining      Wet  Dark - Street Lights On           NaN      NaN   \n2  Overcast      Dry                 Daylight           NaN      NaN   \n3     Clear      Dry                 Daylight           NaN      NaN   \n4   Raining      Wet                 Daylight           NaN      NaN   \n\n  ST_COLCODE HITPARKEDCAR  \n0         10            N  \n1         11            N  \n2         32            N  \n3         23            N  \n4         10            N  \n\n[5 rows x 25 columns]",
      "text/html": "<div>\n<style scoped>\n    .dataframe tbody tr th:only-of-type {\n        vertical-align: middle;\n    }\n\n    .dataframe tbody tr th {\n        vertical-align: top;\n    }\n\n    .dataframe thead th {\n        text-align: right;\n    }\n</style>\n<table border=\"1\" class=\"dataframe\">\n  <thead>\n    <tr style=\"text-align: right;\">\n      <th></th>\n      <th>SEVERITYCODE</th>\n      <th>X</th>\n      <th>Y</th>\n      <th>STATUS</th>\n      <th>ADDRTYPE</th>\n      <th>LOCATION</th>\n      <th>SEVERITYCODE.1</th>\n      <th>SEVERITYDESC</th>\n      <th>COLLISIONTYPE</th>\n      <th>PERSONCOUNT</th>\n      <th>...</th>\n      <th>JUNCTIONTYPE</th>\n      <th>INATTENTIONIND</th>\n      <th>UNDERINFL</th>\n      <th>WEATHER</th>\n      <th>ROADCOND</th>\n      <th>LIGHTCOND</th>\n      <th>PEDROWNOTGRNT</th>\n      <th>SPEEDING</th>\n      <th>ST_COLCODE</th>\n      <th>HITPARKEDCAR</th>\n    </tr>\n  </thead>\n  <tbody>\n    <tr>\n      <th>0</th>\n      <td>2</td>\n      <td>-122.323148</td>\n      <td>47.703140</td>\n      <td>Matched</td>\n      <td>Intersection</td>\n      <td>5TH AVE NE AND NE 103RD ST</td>\n      <td>2</td>\n      <td>Injury Collision</td>\n      <td>Angles</td>\n      <td>2</td>\n      <td>...</td>\n      <td>At Intersection (intersection related)</td>\n      <td>NaN</td>\n      <td>N</td>\n      <td>Overcast</td>\n      <td>Wet</td>\n      <td>Daylight</td>\n      <td>NaN</td>\n      <td>NaN</td>\n      <td>10</td>\n      <td>N</td>\n    </tr>\n    <tr>\n      <th>1</th>\n      <td>1</td>\n      <td>-122.347294</td>\n      <td>47.647172</td>\n      <td>Matched</td>\n      <td>Block</td>\n      <td>AURORA BR BETWEEN RAYE ST AND BRIDGE WAY N</td>\n      <td>1</td>\n      <td>Property Damage Only Collision</td>\n      <td>Sideswipe</td>\n      <td>2</td>\n      <td>...</td>\n      <td>Mid-Block (not related to intersection)</td>\n      <td>NaN</td>\n      <td>0</td>\n      <td>Raining</td>\n      <td>Wet</td>\n      <td>Dark - Street Lights On</td>\n      <td>NaN</td>\n      <td>NaN</td>\n      <td>11</td>\n      <td>N</td>\n    </tr>\n    <tr>\n      <th>2</th>\n      <td>1</td>\n      <td>-122.334540</td>\n      <td>47.607871</td>\n      <td>Matched</td>\n      <td>Block</td>\n      <td>4TH AVE BETWEEN SENECA ST AND UNIVERSITY ST</td>\n      <td>1</td>\n      <td>Property Damage Only Collision</td>\n      <td>Parked Car</td>\n      <td>4</td>\n      <td>...</td>\n      <td>Mid-Block (not related to intersection)</td>\n      <td>NaN</td>\n      <td>0</td>\n      <td>Overcast</td>\n      <td>Dry</td>\n      <td>Daylight</td>\n      <td>NaN</td>\n      <td>NaN</td>\n      <td>32</td>\n      <td>N</td>\n    </tr>\n    <tr>\n      <th>3</th>\n      <td>1</td>\n      <td>-122.334803</td>\n      <td>47.604803</td>\n      <td>Matched</td>\n      <td>Block</td>\n      <td>2ND AVE BETWEEN MARION ST AND MADISON ST</td>\n      <td>1</td>\n      <td>Property Damage Only Collision</td>\n      <td>Other</td>\n      <td>3</td>\n      <td>...</td>\n      <td>Mid-Block (not related to intersection)</td>\n      <td>NaN</td>\n      <td>N</td>\n      <td>Clear</td>\n      <td>Dry</td>\n      <td>Daylight</td>\n      <td>NaN</td>\n      <td>NaN</td>\n      <td>23</td>\n      <td>N</td>\n    </tr>\n    <tr>\n      <th>4</th>\n      <td>2</td>\n      <td>-122.306426</td>\n      <td>47.545739</td>\n      <td>Matched</td>\n      <td>Intersection</td>\n      <td>SWIFT AVE S AND SWIFT AV OFF RP</td>\n      <td>2</td>\n      <td>Injury Collision</td>\n      <td>Angles</td>\n      <td>2</td>\n      <td>...</td>\n      <td>At Intersection (intersection related)</td>\n      <td>NaN</td>\n      <td>0</td>\n      <td>Raining</td>\n      <td>Wet</td>\n      <td>Daylight</td>\n      <td>NaN</td>\n      <td>NaN</td>\n      <td>10</td>\n      <td>N</td>\n    </tr>\n  </tbody>\n</table>\n<p>5 rows × 25 columns</p>\n</div>"
     },
     "metadata": {},
     "execution_count": 131
    }
   ],
   "source": [
    "# Drop id or code columns\n",
    "df1 = df.drop(columns=['OBJECTID', 'INCKEY', 'COLDETKEY','INTKEY', 'REPORTNO', 'EXCEPTRSNCODE', 'EXCEPTRSNDESC', 'SDOT_COLCODE', 'SDOT_COLDESC', 'SDOTCOLNUM', 'ST_COLDESC', 'SEGLANEKEY', 'CROSSWALKKEY'], axis=1)\n",
    "df1.head()"
   ]
  },
  {
   "cell_type": "code",
   "execution_count": 132,
   "metadata": {
    "tags": []
   },
   "outputs": [
    {
     "output_type": "execute_result",
     "data": {
      "text/plain": "True    194673\ndtype: int64"
     },
     "metadata": {},
     "execution_count": 132
    }
   ],
   "source": [
    "# We check if 'SEVERITYCODE' and 'SEVERITYCODE.1' are distinct, then drop one of them if the answer is positive; we will also drop the correspond severity description and the detailed address('LOCATION')\n",
    "comparison = pd.Series(df1['SEVERITYCODE'] == df1['SEVERITYCODE.1'])\n",
    "comparison.value_counts()"
   ]
  },
  {
   "cell_type": "code",
   "execution_count": 133,
   "metadata": {},
   "outputs": [
    {
     "output_type": "execute_result",
     "data": {
      "text/plain": "   SEVERITYCODE           X          Y   STATUS      ADDRTYPE COLLISIONTYPE  \\\n0             2 -122.323148  47.703140  Matched  Intersection        Angles   \n1             1 -122.347294  47.647172  Matched         Block     Sideswipe   \n2             1 -122.334540  47.607871  Matched         Block    Parked Car   \n3             1 -122.334803  47.604803  Matched         Block         Other   \n4             2 -122.306426  47.545739  Matched  Intersection        Angles   \n\n   PERSONCOUNT  PEDCOUNT  PEDCYLCOUNT  VEHCOUNT  ...  \\\n0            2         0            0         2  ...   \n1            2         0            0         2  ...   \n2            4         0            0         3  ...   \n3            3         0            0         3  ...   \n4            2         0            0         2  ...   \n\n                              JUNCTIONTYPE INATTENTIONIND UNDERINFL   WEATHER  \\\n0   At Intersection (intersection related)            NaN         N  Overcast   \n1  Mid-Block (not related to intersection)            NaN         0   Raining   \n2  Mid-Block (not related to intersection)            NaN         0  Overcast   \n3  Mid-Block (not related to intersection)            NaN         N     Clear   \n4   At Intersection (intersection related)            NaN         0   Raining   \n\n  ROADCOND                LIGHTCOND PEDROWNOTGRNT SPEEDING ST_COLCODE  \\\n0      Wet                 Daylight           NaN      NaN         10   \n1      Wet  Dark - Street Lights On           NaN      NaN         11   \n2      Dry                 Daylight           NaN      NaN         32   \n3      Dry                 Daylight           NaN      NaN         23   \n4      Wet                 Daylight           NaN      NaN         10   \n\n  HITPARKEDCAR  \n0            N  \n1            N  \n2            N  \n3            N  \n4            N  \n\n[5 rows x 22 columns]",
      "text/html": "<div>\n<style scoped>\n    .dataframe tbody tr th:only-of-type {\n        vertical-align: middle;\n    }\n\n    .dataframe tbody tr th {\n        vertical-align: top;\n    }\n\n    .dataframe thead th {\n        text-align: right;\n    }\n</style>\n<table border=\"1\" class=\"dataframe\">\n  <thead>\n    <tr style=\"text-align: right;\">\n      <th></th>\n      <th>SEVERITYCODE</th>\n      <th>X</th>\n      <th>Y</th>\n      <th>STATUS</th>\n      <th>ADDRTYPE</th>\n      <th>COLLISIONTYPE</th>\n      <th>PERSONCOUNT</th>\n      <th>PEDCOUNT</th>\n      <th>PEDCYLCOUNT</th>\n      <th>VEHCOUNT</th>\n      <th>...</th>\n      <th>JUNCTIONTYPE</th>\n      <th>INATTENTIONIND</th>\n      <th>UNDERINFL</th>\n      <th>WEATHER</th>\n      <th>ROADCOND</th>\n      <th>LIGHTCOND</th>\n      <th>PEDROWNOTGRNT</th>\n      <th>SPEEDING</th>\n      <th>ST_COLCODE</th>\n      <th>HITPARKEDCAR</th>\n    </tr>\n  </thead>\n  <tbody>\n    <tr>\n      <th>0</th>\n      <td>2</td>\n      <td>-122.323148</td>\n      <td>47.703140</td>\n      <td>Matched</td>\n      <td>Intersection</td>\n      <td>Angles</td>\n      <td>2</td>\n      <td>0</td>\n      <td>0</td>\n      <td>2</td>\n      <td>...</td>\n      <td>At Intersection (intersection related)</td>\n      <td>NaN</td>\n      <td>N</td>\n      <td>Overcast</td>\n      <td>Wet</td>\n      <td>Daylight</td>\n      <td>NaN</td>\n      <td>NaN</td>\n      <td>10</td>\n      <td>N</td>\n    </tr>\n    <tr>\n      <th>1</th>\n      <td>1</td>\n      <td>-122.347294</td>\n      <td>47.647172</td>\n      <td>Matched</td>\n      <td>Block</td>\n      <td>Sideswipe</td>\n      <td>2</td>\n      <td>0</td>\n      <td>0</td>\n      <td>2</td>\n      <td>...</td>\n      <td>Mid-Block (not related to intersection)</td>\n      <td>NaN</td>\n      <td>0</td>\n      <td>Raining</td>\n      <td>Wet</td>\n      <td>Dark - Street Lights On</td>\n      <td>NaN</td>\n      <td>NaN</td>\n      <td>11</td>\n      <td>N</td>\n    </tr>\n    <tr>\n      <th>2</th>\n      <td>1</td>\n      <td>-122.334540</td>\n      <td>47.607871</td>\n      <td>Matched</td>\n      <td>Block</td>\n      <td>Parked Car</td>\n      <td>4</td>\n      <td>0</td>\n      <td>0</td>\n      <td>3</td>\n      <td>...</td>\n      <td>Mid-Block (not related to intersection)</td>\n      <td>NaN</td>\n      <td>0</td>\n      <td>Overcast</td>\n      <td>Dry</td>\n      <td>Daylight</td>\n      <td>NaN</td>\n      <td>NaN</td>\n      <td>32</td>\n      <td>N</td>\n    </tr>\n    <tr>\n      <th>3</th>\n      <td>1</td>\n      <td>-122.334803</td>\n      <td>47.604803</td>\n      <td>Matched</td>\n      <td>Block</td>\n      <td>Other</td>\n      <td>3</td>\n      <td>0</td>\n      <td>0</td>\n      <td>3</td>\n      <td>...</td>\n      <td>Mid-Block (not related to intersection)</td>\n      <td>NaN</td>\n      <td>N</td>\n      <td>Clear</td>\n      <td>Dry</td>\n      <td>Daylight</td>\n      <td>NaN</td>\n      <td>NaN</td>\n      <td>23</td>\n      <td>N</td>\n    </tr>\n    <tr>\n      <th>4</th>\n      <td>2</td>\n      <td>-122.306426</td>\n      <td>47.545739</td>\n      <td>Matched</td>\n      <td>Intersection</td>\n      <td>Angles</td>\n      <td>2</td>\n      <td>0</td>\n      <td>0</td>\n      <td>2</td>\n      <td>...</td>\n      <td>At Intersection (intersection related)</td>\n      <td>NaN</td>\n      <td>0</td>\n      <td>Raining</td>\n      <td>Wet</td>\n      <td>Daylight</td>\n      <td>NaN</td>\n      <td>NaN</td>\n      <td>10</td>\n      <td>N</td>\n    </tr>\n  </tbody>\n</table>\n<p>5 rows × 22 columns</p>\n</div>"
     },
     "metadata": {},
     "execution_count": 133
    }
   ],
   "source": [
    "df1 = df1.drop(columns=['SEVERITYCODE.1', 'SEVERITYDESC', 'LOCATION'], axis=1)\n",
    "df1.head()"
   ]
  },
  {
   "cell_type": "code",
   "execution_count": 134,
   "metadata": {},
   "outputs": [
    {
     "output_type": "execute_result",
     "data": {
      "text/plain": "SEVERITYCODE           0\nX                   5334\nY                   5334\nSTATUS                 0\nADDRTYPE            1926\nCOLLISIONTYPE       4904\nPERSONCOUNT            0\nPEDCOUNT               0\nPEDCYLCOUNT            0\nVEHCOUNT               0\nINCDATE                0\nINCDTTM                0\nJUNCTIONTYPE        6329\nINATTENTIONIND    164868\nUNDERINFL           4884\nWEATHER             5081\nROADCOND            5012\nLIGHTCOND           5170\nPEDROWNOTGRNT     190006\nSPEEDING          185340\nST_COLCODE            18\nHITPARKEDCAR           0\ndtype: int64"
     },
     "metadata": {},
     "execution_count": 134
    }
   ],
   "source": [
    "# check missing values\n",
    "df1.isna().sum()"
   ]
  },
  {
   "cell_type": "code",
   "execution_count": 137,
   "metadata": {},
   "outputs": [
    {
     "output_type": "execute_result",
     "data": {
      "text/plain": "   SEVERITYCODE           X          Y   STATUS      ADDRTYPE COLLISIONTYPE  \\\n0             2 -122.323148  47.703140  Matched  Intersection        Angles   \n1             1 -122.347294  47.647172  Matched         Block     Sideswipe   \n2             1 -122.334540  47.607871  Matched         Block    Parked Car   \n3             1 -122.334803  47.604803  Matched         Block         Other   \n4             2 -122.306426  47.545739  Matched  Intersection        Angles   \n\n   PERSONCOUNT  PEDCOUNT  PEDCYLCOUNT  VEHCOUNT                 INCDATE  \\\n0            2         0            0         2  2013/03/27 00:00:00+00   \n1            2         0            0         2  2006/12/20 00:00:00+00   \n2            4         0            0         3  2004/11/18 00:00:00+00   \n3            3         0            0         3  2013/03/29 00:00:00+00   \n4            2         0            0         2  2004/01/28 00:00:00+00   \n\n                  INCDTTM                             JUNCTIONTYPE UNDERINFL  \\\n0    3/27/2013 2:54:00 PM   At Intersection (intersection related)         N   \n1   12/20/2006 6:55:00 PM  Mid-Block (not related to intersection)         0   \n2  11/18/2004 10:20:00 AM  Mid-Block (not related to intersection)         0   \n3    3/29/2013 9:26:00 AM  Mid-Block (not related to intersection)         N   \n4    1/28/2004 8:04:00 AM   At Intersection (intersection related)         0   \n\n    WEATHER ROADCOND                LIGHTCOND ST_COLCODE HITPARKEDCAR  \n0  Overcast      Wet                 Daylight         10            N  \n1   Raining      Wet  Dark - Street Lights On         11            N  \n2  Overcast      Dry                 Daylight         32            N  \n3     Clear      Dry                 Daylight         23            N  \n4   Raining      Wet                 Daylight         10            N  ",
      "text/html": "<div>\n<style scoped>\n    .dataframe tbody tr th:only-of-type {\n        vertical-align: middle;\n    }\n\n    .dataframe tbody tr th {\n        vertical-align: top;\n    }\n\n    .dataframe thead th {\n        text-align: right;\n    }\n</style>\n<table border=\"1\" class=\"dataframe\">\n  <thead>\n    <tr style=\"text-align: right;\">\n      <th></th>\n      <th>SEVERITYCODE</th>\n      <th>X</th>\n      <th>Y</th>\n      <th>STATUS</th>\n      <th>ADDRTYPE</th>\n      <th>COLLISIONTYPE</th>\n      <th>PERSONCOUNT</th>\n      <th>PEDCOUNT</th>\n      <th>PEDCYLCOUNT</th>\n      <th>VEHCOUNT</th>\n      <th>INCDATE</th>\n      <th>INCDTTM</th>\n      <th>JUNCTIONTYPE</th>\n      <th>UNDERINFL</th>\n      <th>WEATHER</th>\n      <th>ROADCOND</th>\n      <th>LIGHTCOND</th>\n      <th>ST_COLCODE</th>\n      <th>HITPARKEDCAR</th>\n    </tr>\n  </thead>\n  <tbody>\n    <tr>\n      <th>0</th>\n      <td>2</td>\n      <td>-122.323148</td>\n      <td>47.703140</td>\n      <td>Matched</td>\n      <td>Intersection</td>\n      <td>Angles</td>\n      <td>2</td>\n      <td>0</td>\n      <td>0</td>\n      <td>2</td>\n      <td>2013/03/27 00:00:00+00</td>\n      <td>3/27/2013 2:54:00 PM</td>\n      <td>At Intersection (intersection related)</td>\n      <td>N</td>\n      <td>Overcast</td>\n      <td>Wet</td>\n      <td>Daylight</td>\n      <td>10</td>\n      <td>N</td>\n    </tr>\n    <tr>\n      <th>1</th>\n      <td>1</td>\n      <td>-122.347294</td>\n      <td>47.647172</td>\n      <td>Matched</td>\n      <td>Block</td>\n      <td>Sideswipe</td>\n      <td>2</td>\n      <td>0</td>\n      <td>0</td>\n      <td>2</td>\n      <td>2006/12/20 00:00:00+00</td>\n      <td>12/20/2006 6:55:00 PM</td>\n      <td>Mid-Block (not related to intersection)</td>\n      <td>0</td>\n      <td>Raining</td>\n      <td>Wet</td>\n      <td>Dark - Street Lights On</td>\n      <td>11</td>\n      <td>N</td>\n    </tr>\n    <tr>\n      <th>2</th>\n      <td>1</td>\n      <td>-122.334540</td>\n      <td>47.607871</td>\n      <td>Matched</td>\n      <td>Block</td>\n      <td>Parked Car</td>\n      <td>4</td>\n      <td>0</td>\n      <td>0</td>\n      <td>3</td>\n      <td>2004/11/18 00:00:00+00</td>\n      <td>11/18/2004 10:20:00 AM</td>\n      <td>Mid-Block (not related to intersection)</td>\n      <td>0</td>\n      <td>Overcast</td>\n      <td>Dry</td>\n      <td>Daylight</td>\n      <td>32</td>\n      <td>N</td>\n    </tr>\n    <tr>\n      <th>3</th>\n      <td>1</td>\n      <td>-122.334803</td>\n      <td>47.604803</td>\n      <td>Matched</td>\n      <td>Block</td>\n      <td>Other</td>\n      <td>3</td>\n      <td>0</td>\n      <td>0</td>\n      <td>3</td>\n      <td>2013/03/29 00:00:00+00</td>\n      <td>3/29/2013 9:26:00 AM</td>\n      <td>Mid-Block (not related to intersection)</td>\n      <td>N</td>\n      <td>Clear</td>\n      <td>Dry</td>\n      <td>Daylight</td>\n      <td>23</td>\n      <td>N</td>\n    </tr>\n    <tr>\n      <th>4</th>\n      <td>2</td>\n      <td>-122.306426</td>\n      <td>47.545739</td>\n      <td>Matched</td>\n      <td>Intersection</td>\n      <td>Angles</td>\n      <td>2</td>\n      <td>0</td>\n      <td>0</td>\n      <td>2</td>\n      <td>2004/01/28 00:00:00+00</td>\n      <td>1/28/2004 8:04:00 AM</td>\n      <td>At Intersection (intersection related)</td>\n      <td>0</td>\n      <td>Raining</td>\n      <td>Wet</td>\n      <td>Daylight</td>\n      <td>10</td>\n      <td>N</td>\n    </tr>\n  </tbody>\n</table>\n</div>"
     },
     "metadata": {},
     "execution_count": 137
    }
   ],
   "source": [
    "# drop 3 columns and 18 rows with no code\n",
    "df1 = df1.drop(columns=['INATTENTIONIND','PEDROWNOTGRNT','SPEEDING'], axis=1)\n",
    "df1.dropna(axis=0, subset=['ST_COLCODE'], inplace=True)\n",
    "df1.head()"
   ]
  },
  {
   "cell_type": "code",
   "execution_count": 138,
   "metadata": {},
   "outputs": [
    {
     "output_type": "execute_result",
     "data": {
      "text/plain": "SEVERITYCODE     0\nX                0\nY                0\nSTATUS           0\nADDRTYPE         0\nCOLLISIONTYPE    0\nPERSONCOUNT      0\nPEDCOUNT         0\nPEDCYLCOUNT      0\nVEHCOUNT         0\nINCDATE          0\nINCDTTM          0\nJUNCTIONTYPE     0\nUNDERINFL        0\nWEATHER          0\nROADCOND         0\nLIGHTCOND        0\nST_COLCODE       0\nHITPARKEDCAR     0\ndtype: int64"
     },
     "metadata": {},
     "execution_count": 138
    }
   ],
   "source": [
    "# replace other missing values\n",
    "values = {'X':df1['X'].median(), 'Y':df1['Y'].median(), 'ADDRTYPE':df1['ADDRTYPE'].mode().iloc[0], 'COLLISIONTYPE':df1['COLLISIONTYPE'].mode().iloc[0], 'JUNCTIONTYPE':df1['JUNCTIONTYPE'].mode().iloc[0], 'UNDERINFL':df1['UNDERINFL'].mode().iloc[0], 'WEATHER':df1['WEATHER'].mode().iloc[0], 'ROADCOND':df1['ROADCOND'].mode().iloc[0], 'LIGHTCOND':df1['LIGHTCOND'].mode().iloc[0]}\n",
    "df1 = df1.fillna(value=values, axis=0)\n",
    "df1.isnull().sum()"
   ]
  },
  {
   "cell_type": "code",
   "execution_count": 139,
   "metadata": {},
   "outputs": [],
   "source": [
    "# Drop date column\n",
    "df1.drop(columns='INCDATE', axis=1, inplace=True)"
   ]
  },
  {
   "cell_type": "code",
   "execution_count": 140,
   "metadata": {},
   "outputs": [
    {
     "output_type": "execute_result",
     "data": {
      "text/plain": "   SEVERITYCODE           X          Y   STATUS      ADDRTYPE COLLISIONTYPE  \\\n0             2 -122.323148  47.703140  Matched  Intersection        Angles   \n1             1 -122.347294  47.647172  Matched         Block     Sideswipe   \n2             1 -122.334540  47.607871  Matched         Block    Parked Car   \n3             1 -122.334803  47.604803  Matched         Block         Other   \n4             2 -122.306426  47.545739  Matched  Intersection        Angles   \n\n   PERSONCOUNT  PEDCOUNT  PEDCYLCOUNT  VEHCOUNT             INCDTTM  \\\n0            2         0            0         2 2013-03-27 14:54:00   \n1            2         0            0         2 2006-12-20 18:55:00   \n2            4         0            0         3 2004-11-18 10:20:00   \n3            3         0            0         3 2013-03-29 09:26:00   \n4            2         0            0         2 2004-01-28 08:04:00   \n\n                              JUNCTIONTYPE UNDERINFL   WEATHER ROADCOND  \\\n0   At Intersection (intersection related)         N  Overcast      Wet   \n1  Mid-Block (not related to intersection)         0   Raining      Wet   \n2  Mid-Block (not related to intersection)         0  Overcast      Dry   \n3  Mid-Block (not related to intersection)         N     Clear      Dry   \n4   At Intersection (intersection related)         0   Raining      Wet   \n\n                 LIGHTCOND ST_COLCODE HITPARKEDCAR  \n0                 Daylight         10            N  \n1  Dark - Street Lights On         11            N  \n2                 Daylight         32            N  \n3                 Daylight         23            N  \n4                 Daylight         10            N  ",
      "text/html": "<div>\n<style scoped>\n    .dataframe tbody tr th:only-of-type {\n        vertical-align: middle;\n    }\n\n    .dataframe tbody tr th {\n        vertical-align: top;\n    }\n\n    .dataframe thead th {\n        text-align: right;\n    }\n</style>\n<table border=\"1\" class=\"dataframe\">\n  <thead>\n    <tr style=\"text-align: right;\">\n      <th></th>\n      <th>SEVERITYCODE</th>\n      <th>X</th>\n      <th>Y</th>\n      <th>STATUS</th>\n      <th>ADDRTYPE</th>\n      <th>COLLISIONTYPE</th>\n      <th>PERSONCOUNT</th>\n      <th>PEDCOUNT</th>\n      <th>PEDCYLCOUNT</th>\n      <th>VEHCOUNT</th>\n      <th>INCDTTM</th>\n      <th>JUNCTIONTYPE</th>\n      <th>UNDERINFL</th>\n      <th>WEATHER</th>\n      <th>ROADCOND</th>\n      <th>LIGHTCOND</th>\n      <th>ST_COLCODE</th>\n      <th>HITPARKEDCAR</th>\n    </tr>\n  </thead>\n  <tbody>\n    <tr>\n      <th>0</th>\n      <td>2</td>\n      <td>-122.323148</td>\n      <td>47.703140</td>\n      <td>Matched</td>\n      <td>Intersection</td>\n      <td>Angles</td>\n      <td>2</td>\n      <td>0</td>\n      <td>0</td>\n      <td>2</td>\n      <td>2013-03-27 14:54:00</td>\n      <td>At Intersection (intersection related)</td>\n      <td>N</td>\n      <td>Overcast</td>\n      <td>Wet</td>\n      <td>Daylight</td>\n      <td>10</td>\n      <td>N</td>\n    </tr>\n    <tr>\n      <th>1</th>\n      <td>1</td>\n      <td>-122.347294</td>\n      <td>47.647172</td>\n      <td>Matched</td>\n      <td>Block</td>\n      <td>Sideswipe</td>\n      <td>2</td>\n      <td>0</td>\n      <td>0</td>\n      <td>2</td>\n      <td>2006-12-20 18:55:00</td>\n      <td>Mid-Block (not related to intersection)</td>\n      <td>0</td>\n      <td>Raining</td>\n      <td>Wet</td>\n      <td>Dark - Street Lights On</td>\n      <td>11</td>\n      <td>N</td>\n    </tr>\n    <tr>\n      <th>2</th>\n      <td>1</td>\n      <td>-122.334540</td>\n      <td>47.607871</td>\n      <td>Matched</td>\n      <td>Block</td>\n      <td>Parked Car</td>\n      <td>4</td>\n      <td>0</td>\n      <td>0</td>\n      <td>3</td>\n      <td>2004-11-18 10:20:00</td>\n      <td>Mid-Block (not related to intersection)</td>\n      <td>0</td>\n      <td>Overcast</td>\n      <td>Dry</td>\n      <td>Daylight</td>\n      <td>32</td>\n      <td>N</td>\n    </tr>\n    <tr>\n      <th>3</th>\n      <td>1</td>\n      <td>-122.334803</td>\n      <td>47.604803</td>\n      <td>Matched</td>\n      <td>Block</td>\n      <td>Other</td>\n      <td>3</td>\n      <td>0</td>\n      <td>0</td>\n      <td>3</td>\n      <td>2013-03-29 09:26:00</td>\n      <td>Mid-Block (not related to intersection)</td>\n      <td>N</td>\n      <td>Clear</td>\n      <td>Dry</td>\n      <td>Daylight</td>\n      <td>23</td>\n      <td>N</td>\n    </tr>\n    <tr>\n      <th>4</th>\n      <td>2</td>\n      <td>-122.306426</td>\n      <td>47.545739</td>\n      <td>Matched</td>\n      <td>Intersection</td>\n      <td>Angles</td>\n      <td>2</td>\n      <td>0</td>\n      <td>0</td>\n      <td>2</td>\n      <td>2004-01-28 08:04:00</td>\n      <td>At Intersection (intersection related)</td>\n      <td>0</td>\n      <td>Raining</td>\n      <td>Wet</td>\n      <td>Daylight</td>\n      <td>10</td>\n      <td>N</td>\n    </tr>\n  </tbody>\n</table>\n</div>"
     },
     "metadata": {},
     "execution_count": 140
    }
   ],
   "source": [
    "# Convert DTTM\n",
    "df1['INCDTTM'] = pd.to_datetime(df1['INCDTTM'])\n",
    "df1.head()"
   ]
  },
  {
   "cell_type": "code",
   "execution_count": null,
   "metadata": {},
   "outputs": [],
   "source": []
  }
 ]
}